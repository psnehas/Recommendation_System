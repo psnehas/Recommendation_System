{
 "cells": [
  {
   "cell_type": "code",
   "execution_count": 1,
   "metadata": {},
   "outputs": [],
   "source": [
    "#import libraries\n",
    "import pandas as pd\n",
    "import math\n",
    "from pyspark.sql import SparkSession\n",
    "\n",
    "from surprise import BaselineOnly\n",
    "from surprise import Dataset\n",
    "from surprise import Reader\n",
    "from surprise import SVDpp\n",
    "from surprise import SVD\n",
    "from surprise import NMF\n",
    "from surprise import accuracy\n",
    "from surprise.model_selection import GridSearchCV\n",
    "from surprise.model_selection import cross_validate\n"
   ]
  },
  {
   "cell_type": "code",
   "execution_count": 2,
   "metadata": {},
   "outputs": [],
   "source": [
    "#create spark session\n",
    "#spark = SparkSession.builder.appName(\"MovieRec\").getOrCreate()"
   ]
  },
  {
   "cell_type": "code",
   "execution_count": 3,
   "metadata": {},
   "outputs": [],
   "source": [
    "#load training data using pandas\n",
    "train_df = pd.read_csv(\"cmpe256-f19-recommender-systems/training.csv\")\n",
    "\n",
    "#load test data using pandas\n",
    "test_df = pd.read_csv(\"cmpe256-f19-recommender-systems/test_with_asin_reviewerID.csv\")\n"
   ]
  },
  {
   "cell_type": "code",
   "execution_count": 4,
   "metadata": {},
   "outputs": [
    {
     "data": {
      "text/plain": [
       "asin                 0\n",
       "helpful              0\n",
       "overall              0\n",
       "reviewText          15\n",
       "reviewTime           0\n",
       "reviewerID           0\n",
       "reviewerName      2646\n",
       "summary              1\n",
       "unixReviewTime       0\n",
       "dtype: int64"
      ]
     },
     "execution_count": 4,
     "metadata": {},
     "output_type": "execute_result"
    }
   ],
   "source": [
    "train_df.isnull().sum()"
   ]
  },
  {
   "cell_type": "code",
   "execution_count": 5,
   "metadata": {},
   "outputs": [
    {
     "data": {
      "text/html": [
       "<div>\n",
       "<style scoped>\n",
       "    .dataframe tbody tr th:only-of-type {\n",
       "        vertical-align: middle;\n",
       "    }\n",
       "\n",
       "    .dataframe tbody tr th {\n",
       "        vertical-align: top;\n",
       "    }\n",
       "\n",
       "    .dataframe thead th {\n",
       "        text-align: right;\n",
       "    }\n",
       "</style>\n",
       "<table border=\"1\" class=\"dataframe\">\n",
       "  <thead>\n",
       "    <tr style=\"text-align: right;\">\n",
       "      <th></th>\n",
       "      <th>asin</th>\n",
       "      <th>helpful</th>\n",
       "      <th>overall</th>\n",
       "      <th>reviewText</th>\n",
       "      <th>reviewTime</th>\n",
       "      <th>reviewerID</th>\n",
       "      <th>reviewerName</th>\n",
       "      <th>summary</th>\n",
       "      <th>unixReviewTime</th>\n",
       "    </tr>\n",
       "  </thead>\n",
       "  <tbody>\n",
       "    <tr>\n",
       "      <td>0</td>\n",
       "      <td>52021</td>\n",
       "      <td>[0, 1]</td>\n",
       "      <td>4</td>\n",
       "      <td>When you read in a row all the books of a seri...</td>\n",
       "      <td>03 29, 2014</td>\n",
       "      <td>15012</td>\n",
       "      <td>Amazon Customer</td>\n",
       "      <td>Big bro' Big guy</td>\n",
       "      <td>1396051200</td>\n",
       "    </tr>\n",
       "    <tr>\n",
       "      <td>1</td>\n",
       "      <td>42867</td>\n",
       "      <td>[1, 1]</td>\n",
       "      <td>5</td>\n",
       "      <td>Oh my goodness, I LOVED this book!!! I was on ...</td>\n",
       "      <td>10 16, 2013</td>\n",
       "      <td>20330</td>\n",
       "      <td>Kristina L. Metcalf</td>\n",
       "      <td>Oh My!!</td>\n",
       "      <td>1381881600</td>\n",
       "    </tr>\n",
       "    <tr>\n",
       "      <td>2</td>\n",
       "      <td>9168</td>\n",
       "      <td>[1, 1]</td>\n",
       "      <td>5</td>\n",
       "      <td>The cover of the first book got my attention. ...</td>\n",
       "      <td>02 12, 2013</td>\n",
       "      <td>62907</td>\n",
       "      <td>Andrea Ortiz</td>\n",
       "      <td>Awesome!!</td>\n",
       "      <td>1360627200</td>\n",
       "    </tr>\n",
       "    <tr>\n",
       "      <td>3</td>\n",
       "      <td>26051</td>\n",
       "      <td>[0, 0]</td>\n",
       "      <td>4</td>\n",
       "      <td>I can't say that I've read any urban fiction b...</td>\n",
       "      <td>03 13, 2014</td>\n",
       "      <td>11778</td>\n",
       "      <td>M Sockel</td>\n",
       "      <td>A refreshing venture into urban fiction</td>\n",
       "      <td>1394668800</td>\n",
       "    </tr>\n",
       "    <tr>\n",
       "      <td>4</td>\n",
       "      <td>30061</td>\n",
       "      <td>[0, 0]</td>\n",
       "      <td>4</td>\n",
       "      <td>The Murder at Sissingham Hall is a likeable my...</td>\n",
       "      <td>06 17, 2013</td>\n",
       "      <td>63717</td>\n",
       "      <td>lisa marie</td>\n",
       "      <td>likeable english tea cosy mystery</td>\n",
       "      <td>1371427200</td>\n",
       "    </tr>\n",
       "  </tbody>\n",
       "</table>\n",
       "</div>"
      ],
      "text/plain": [
       "    asin helpful  overall                                         reviewText  \\\n",
       "0  52021  [0, 1]        4  When you read in a row all the books of a seri...   \n",
       "1  42867  [1, 1]        5  Oh my goodness, I LOVED this book!!! I was on ...   \n",
       "2   9168  [1, 1]        5  The cover of the first book got my attention. ...   \n",
       "3  26051  [0, 0]        4  I can't say that I've read any urban fiction b...   \n",
       "4  30061  [0, 0]        4  The Murder at Sissingham Hall is a likeable my...   \n",
       "\n",
       "    reviewTime  reviewerID         reviewerName  \\\n",
       "0  03 29, 2014       15012      Amazon Customer   \n",
       "1  10 16, 2013       20330  Kristina L. Metcalf   \n",
       "2  02 12, 2013       62907         Andrea Ortiz   \n",
       "3  03 13, 2014       11778             M Sockel   \n",
       "4  06 17, 2013       63717           lisa marie   \n",
       "\n",
       "                                   summary  unixReviewTime  \n",
       "0                         Big bro' Big guy      1396051200  \n",
       "1                                  Oh My!!      1381881600  \n",
       "2                                Awesome!!      1360627200  \n",
       "3  A refreshing venture into urban fiction      1394668800  \n",
       "4        likeable english tea cosy mystery      1371427200  "
      ]
     },
     "execution_count": 5,
     "metadata": {},
     "output_type": "execute_result"
    }
   ],
   "source": [
    "train_df.head()"
   ]
  },
  {
   "cell_type": "code",
   "execution_count": 6,
   "metadata": {},
   "outputs": [],
   "source": [
    "# create training dataframe with just the three attributes.\n",
    "train_df = train_df[['reviewerID','asin','overall']]"
   ]
  },
  {
   "cell_type": "code",
   "execution_count": 10,
   "metadata": {},
   "outputs": [
    {
     "data": {
      "text/html": [
       "<div>\n",
       "<style scoped>\n",
       "    .dataframe tbody tr th:only-of-type {\n",
       "        vertical-align: middle;\n",
       "    }\n",
       "\n",
       "    .dataframe tbody tr th {\n",
       "        vertical-align: top;\n",
       "    }\n",
       "\n",
       "    .dataframe thead th {\n",
       "        text-align: right;\n",
       "    }\n",
       "</style>\n",
       "<table border=\"1\" class=\"dataframe\">\n",
       "  <thead>\n",
       "    <tr style=\"text-align: right;\">\n",
       "      <th></th>\n",
       "      <th>reviewerID</th>\n",
       "      <th>asin</th>\n",
       "      <th>overall</th>\n",
       "    </tr>\n",
       "  </thead>\n",
       "  <tbody>\n",
       "    <tr>\n",
       "      <td>0</td>\n",
       "      <td>15012</td>\n",
       "      <td>52021</td>\n",
       "      <td>4</td>\n",
       "    </tr>\n",
       "    <tr>\n",
       "      <td>1</td>\n",
       "      <td>20330</td>\n",
       "      <td>42867</td>\n",
       "      <td>5</td>\n",
       "    </tr>\n",
       "    <tr>\n",
       "      <td>2</td>\n",
       "      <td>62907</td>\n",
       "      <td>9168</td>\n",
       "      <td>5</td>\n",
       "    </tr>\n",
       "    <tr>\n",
       "      <td>3</td>\n",
       "      <td>11778</td>\n",
       "      <td>26051</td>\n",
       "      <td>4</td>\n",
       "    </tr>\n",
       "    <tr>\n",
       "      <td>4</td>\n",
       "      <td>63717</td>\n",
       "      <td>30061</td>\n",
       "      <td>4</td>\n",
       "    </tr>\n",
       "  </tbody>\n",
       "</table>\n",
       "</div>"
      ],
      "text/plain": [
       "   reviewerID   asin  overall\n",
       "0       15012  52021        4\n",
       "1       20330  42867        5\n",
       "2       62907   9168        5\n",
       "3       11778  26051        4\n",
       "4       63717  30061        4"
      ]
     },
     "execution_count": 10,
     "metadata": {},
     "output_type": "execute_result"
    }
   ],
   "source": [
    "train_df.head(5)"
   ]
  },
  {
   "cell_type": "code",
   "execution_count": 11,
   "metadata": {},
   "outputs": [],
   "source": [
    "# insert another attribute to test dataframe and assign value to zero\n",
    "test_df['ratings'] = 0"
   ]
  },
  {
   "cell_type": "code",
   "execution_count": 12,
   "metadata": {},
   "outputs": [
    {
     "data": {
      "text/html": [
       "<div>\n",
       "<style scoped>\n",
       "    .dataframe tbody tr th:only-of-type {\n",
       "        vertical-align: middle;\n",
       "    }\n",
       "\n",
       "    .dataframe tbody tr th {\n",
       "        vertical-align: top;\n",
       "    }\n",
       "\n",
       "    .dataframe thead th {\n",
       "        text-align: right;\n",
       "    }\n",
       "</style>\n",
       "<table border=\"1\" class=\"dataframe\">\n",
       "  <thead>\n",
       "    <tr style=\"text-align: right;\">\n",
       "      <th></th>\n",
       "      <th>reviewerID</th>\n",
       "      <th>asin</th>\n",
       "      <th>ratings</th>\n",
       "    </tr>\n",
       "  </thead>\n",
       "  <tbody>\n",
       "    <tr>\n",
       "      <td>0</td>\n",
       "      <td>57436</td>\n",
       "      <td>28105</td>\n",
       "      <td>0</td>\n",
       "    </tr>\n",
       "    <tr>\n",
       "      <td>1</td>\n",
       "      <td>57436</td>\n",
       "      <td>965</td>\n",
       "      <td>0</td>\n",
       "    </tr>\n",
       "    <tr>\n",
       "      <td>2</td>\n",
       "      <td>18624</td>\n",
       "      <td>31199</td>\n",
       "      <td>0</td>\n",
       "    </tr>\n",
       "    <tr>\n",
       "      <td>3</td>\n",
       "      <td>32196</td>\n",
       "      <td>39244</td>\n",
       "      <td>0</td>\n",
       "    </tr>\n",
       "    <tr>\n",
       "      <td>4</td>\n",
       "      <td>32196</td>\n",
       "      <td>25050</td>\n",
       "      <td>0</td>\n",
       "    </tr>\n",
       "  </tbody>\n",
       "</table>\n",
       "</div>"
      ],
      "text/plain": [
       "   reviewerID   asin  ratings\n",
       "0       57436  28105        0\n",
       "1       57436    965        0\n",
       "2       18624  31199        0\n",
       "3       32196  39244        0\n",
       "4       32196  25050        0"
      ]
     },
     "execution_count": 12,
     "metadata": {},
     "output_type": "execute_result"
    }
   ],
   "source": [
    "test_df.head(5)"
   ]
  },
  {
   "cell_type": "code",
   "execution_count": 13,
   "metadata": {},
   "outputs": [
    {
     "data": {
      "text/plain": [
       "reviewerID    687833\n",
       "asin          687833\n",
       "overall       687833\n",
       "dtype: int64"
      ]
     },
     "execution_count": 13,
     "metadata": {},
     "output_type": "execute_result"
    }
   ],
   "source": [
    "train_df.count()"
   ]
  },
  {
   "cell_type": "code",
   "execution_count": 14,
   "metadata": {},
   "outputs": [
    {
     "data": {
      "text/html": [
       "<div>\n",
       "<style scoped>\n",
       "    .dataframe tbody tr th:only-of-type {\n",
       "        vertical-align: middle;\n",
       "    }\n",
       "\n",
       "    .dataframe tbody tr th {\n",
       "        vertical-align: top;\n",
       "    }\n",
       "\n",
       "    .dataframe thead th {\n",
       "        text-align: right;\n",
       "    }\n",
       "</style>\n",
       "<table border=\"1\" class=\"dataframe\">\n",
       "  <thead>\n",
       "    <tr style=\"text-align: right;\">\n",
       "      <th></th>\n",
       "      <th>reviewerID</th>\n",
       "      <th>asin</th>\n",
       "      <th>overall</th>\n",
       "    </tr>\n",
       "  </thead>\n",
       "  <tbody>\n",
       "    <tr>\n",
       "      <td>count</td>\n",
       "      <td>687833.000000</td>\n",
       "      <td>687833.000000</td>\n",
       "      <td>687833.000000</td>\n",
       "    </tr>\n",
       "    <tr>\n",
       "      <td>mean</td>\n",
       "      <td>33838.781994</td>\n",
       "      <td>31149.823889</td>\n",
       "      <td>4.347096</td>\n",
       "    </tr>\n",
       "    <tr>\n",
       "      <td>std</td>\n",
       "      <td>19656.307444</td>\n",
       "      <td>17480.188237</td>\n",
       "      <td>0.956470</td>\n",
       "    </tr>\n",
       "    <tr>\n",
       "      <td>min</td>\n",
       "      <td>0.000000</td>\n",
       "      <td>0.000000</td>\n",
       "      <td>1.000000</td>\n",
       "    </tr>\n",
       "    <tr>\n",
       "      <td>25%</td>\n",
       "      <td>16665.000000</td>\n",
       "      <td>16139.000000</td>\n",
       "      <td>4.000000</td>\n",
       "    </tr>\n",
       "    <tr>\n",
       "      <td>50%</td>\n",
       "      <td>34181.000000</td>\n",
       "      <td>31524.000000</td>\n",
       "      <td>5.000000</td>\n",
       "    </tr>\n",
       "    <tr>\n",
       "      <td>75%</td>\n",
       "      <td>50628.000000</td>\n",
       "      <td>45984.000000</td>\n",
       "      <td>5.000000</td>\n",
       "    </tr>\n",
       "    <tr>\n",
       "      <td>max</td>\n",
       "      <td>68222.000000</td>\n",
       "      <td>61933.000000</td>\n",
       "      <td>5.000000</td>\n",
       "    </tr>\n",
       "  </tbody>\n",
       "</table>\n",
       "</div>"
      ],
      "text/plain": [
       "          reviewerID           asin        overall\n",
       "count  687833.000000  687833.000000  687833.000000\n",
       "mean    33838.781994   31149.823889       4.347096\n",
       "std     19656.307444   17480.188237       0.956470\n",
       "min         0.000000       0.000000       1.000000\n",
       "25%     16665.000000   16139.000000       4.000000\n",
       "50%     34181.000000   31524.000000       5.000000\n",
       "75%     50628.000000   45984.000000       5.000000\n",
       "max     68222.000000   61933.000000       5.000000"
      ]
     },
     "execution_count": 14,
     "metadata": {},
     "output_type": "execute_result"
    }
   ],
   "source": [
    "train_df.describe()"
   ]
  },
  {
   "cell_type": "code",
   "execution_count": 15,
   "metadata": {},
   "outputs": [
    {
     "data": {
      "text/plain": [
       "surprise.dataset.DatasetAutoFolds"
      ]
     },
     "execution_count": 15,
     "metadata": {},
     "output_type": "execute_result"
    }
   ],
   "source": [
    "#parse the dataframes using surprise data reader\n",
    "reader = Reader(rating_scale=(1,5))\n",
    "data=Dataset.load_from_df(train_df,reader)\n",
    "type(data)"
   ]
  },
  {
   "cell_type": "code",
   "execution_count": 16,
   "metadata": {},
   "outputs": [],
   "source": [
    "# build training dataset from the parsed data\n",
    "trainData = data.build_full_trainset()"
   ]
  },
  {
   "cell_type": "code",
   "execution_count": 17,
   "metadata": {},
   "outputs": [],
   "source": [
    "#create test and validation split -- for seld testing and validating prediction accuracy\n",
    "from surprise.model_selection import train_test_split\n",
    "trainSet, validationSet = train_test_split(data, test_size=.20,train_size=.80)"
   ]
  },
  {
   "cell_type": "markdown",
   "metadata": {},
   "source": [
    "## BaseLine"
   ]
  },
  {
   "cell_type": "code",
   "execution_count": 18,
   "metadata": {},
   "outputs": [],
   "source": [
    "# bsl_options = {'method': 'als', #another option is sgd\n",
    "#                'n_epochs': 90,   # number of iterations\n",
    "#                'reg_i':3,\n",
    "#                'reg_u':3\n",
    "#                }"
   ]
  },
  {
   "cell_type": "code",
   "execution_count": 19,
   "metadata": {},
   "outputs": [],
   "source": [
    "# bl = BaselineOnly(bsl_options=bsl_options) #neighbours=3\n",
    "# bl.fit(trainData)\n",
    "# predictions_bl = bl.test(validationSet)"
   ]
  },
  {
   "cell_type": "code",
   "execution_count": 20,
   "metadata": {},
   "outputs": [],
   "source": [
    "#predictions_bl"
   ]
  },
  {
   "cell_type": "code",
   "execution_count": 21,
   "metadata": {},
   "outputs": [
    {
     "name": "stdout",
     "output_type": "stream",
     "text": [
      "RMSE: 0.6795\n"
     ]
    },
    {
     "data": {
      "text/plain": [
       "0.6794664475371454"
      ]
     },
     "execution_count": 21,
     "metadata": {},
     "output_type": "execute_result"
    }
   ],
   "source": [
    "#  accuracy.rmse(predictions_bl)"
   ]
  },
  {
   "cell_type": "markdown",
   "metadata": {},
   "source": [
    "## SVD"
   ]
  },
  {
   "cell_type": "code",
   "execution_count": 21,
   "metadata": {},
   "outputs": [],
   "source": [
    "#using SVD algorithm\n",
    "algo_SVD = SVD(n_factors=539,n_epochs=53,reg_all=0.03,lr_all=0.05) "
   ]
  },
  {
   "cell_type": "code",
   "execution_count": 22,
   "metadata": {},
   "outputs": [],
   "source": [
    "algo_SVD.fit(trainData)\n",
    "predictions_SVD = algo_SVD.test(validationSet)"
   ]
  },
  {
   "cell_type": "code",
   "execution_count": 23,
   "metadata": {},
   "outputs": [
    {
     "name": "stdout",
     "output_type": "stream",
     "text": [
      "RMSE: 0.0745\n"
     ]
    },
    {
     "data": {
      "text/plain": [
       "0.07450947572184045"
      ]
     },
     "execution_count": 23,
     "metadata": {},
     "output_type": "execute_result"
    }
   ],
   "source": [
    "accuracy.rmse(predictions_SVD)"
   ]
  },
  {
   "cell_type": "markdown",
   "metadata": {},
   "source": [
    "## SVDpp"
   ]
  },
  {
   "cell_type": "code",
   "execution_count": 24,
   "metadata": {},
   "outputs": [],
   "source": [
    "#implementing SVDpp algorithm\n",
    "# algo_SVDpp = SVDpp(n_factors=500,n_epochs=30)"
   ]
  },
  {
   "cell_type": "code",
   "execution_count": 25,
   "metadata": {},
   "outputs": [],
   "source": [
    "# algo_SVDpp.fit(trainData)\n",
    "# predictions_SVDpp=algo_SVDpp.test(validationSet)\n",
    "# accuracy.rmse(predictions_SVDpp)"
   ]
  },
  {
   "cell_type": "markdown",
   "metadata": {},
   "source": [
    "## NMF"
   ]
  },
  {
   "cell_type": "code",
   "execution_count": 29,
   "metadata": {},
   "outputs": [],
   "source": [
    "# algo_NMF = NMF()"
   ]
  },
  {
   "cell_type": "code",
   "execution_count": 30,
   "metadata": {},
   "outputs": [],
   "source": [
    "# algo_NMF.fit(trainData)\n",
    "# predictions_NMF=algo_NMF.test(validationSet)\n",
    "# accuracy.rmse(predictions_NMF)"
   ]
  },
  {
   "cell_type": "markdown",
   "metadata": {},
   "source": [
    "## GridSearchCV"
   ]
  },
  {
   "cell_type": "code",
   "execution_count": 21,
   "metadata": {},
   "outputs": [],
   "source": [
    "# #implementing GridSearchCV -- using the same values as given in the documentation\n",
    "\n",
    "\n",
    "# param_grid = {'n_epochs': [10, 20], 'lr_all': [0.002, 0.003],'reg_all':[0.02, 0.03]}\n",
    "# grid_search = GridSearchCV(SVD, param_grid, measures=['rmse'], cv=3)\n",
    "# grid_search.fit(data)\n",
    "\n",
    "# algo_gs = grid_search.best_estimator['rmse']"
   ]
  },
  {
   "cell_type": "code",
   "execution_count": 22,
   "metadata": {},
   "outputs": [
    {
     "name": "stdout",
     "output_type": "stream",
     "text": [
      "RMSE: 0.8367\n"
     ]
    },
    {
     "data": {
      "text/plain": [
       "0.8366850673482905"
      ]
     },
     "execution_count": 22,
     "metadata": {},
     "output_type": "execute_result"
    }
   ],
   "source": [
    "# algo_gs.fit(trainData)\n",
    "# predictions_gridSearch = algo_gs.test(validationSet)\n",
    "# accuracy.rmse(predictions_gridSearch)"
   ]
  },
  {
   "cell_type": "markdown",
   "metadata": {},
   "source": [
    "## generate predictions for test set and load it to a csv file"
   ]
  },
  {
   "cell_type": "code",
   "execution_count": 24,
   "metadata": {},
   "outputs": [],
   "source": [
    "#prediction on test data\n",
    "\n",
    "predictionEstimation = []\n",
    "for i in range(len(test_df)) :\n",
    "    p = test_df.loc[i,\"reviewerID\"]\n",
    "    q = test_df.loc[i,\"asin\"]\n",
    "    r = test_df.loc[i,\"ratings\"]\n",
    "    predictionEstimation.append(algo_SVD.predict(p,q,r))"
   ]
  },
  {
   "cell_type": "code",
   "execution_count": 25,
   "metadata": {},
   "outputs": [],
   "source": [
    "# creating pandas datafrme to visualize the resulting predictions\n",
    "result_DF = pd.DataFrame(predictionEstimation) "
   ]
  },
  {
   "cell_type": "code",
   "execution_count": 26,
   "metadata": {},
   "outputs": [
    {
     "data": {
      "text/html": [
       "<div>\n",
       "<style scoped>\n",
       "    .dataframe tbody tr th:only-of-type {\n",
       "        vertical-align: middle;\n",
       "    }\n",
       "\n",
       "    .dataframe tbody tr th {\n",
       "        vertical-align: top;\n",
       "    }\n",
       "\n",
       "    .dataframe thead th {\n",
       "        text-align: right;\n",
       "    }\n",
       "</style>\n",
       "<table border=\"1\" class=\"dataframe\">\n",
       "  <thead>\n",
       "    <tr style=\"text-align: right;\">\n",
       "      <th></th>\n",
       "      <th>uid</th>\n",
       "      <th>iid</th>\n",
       "      <th>r_ui</th>\n",
       "      <th>est</th>\n",
       "      <th>details</th>\n",
       "    </tr>\n",
       "  </thead>\n",
       "  <tbody>\n",
       "    <tr>\n",
       "      <td>0</td>\n",
       "      <td>57436</td>\n",
       "      <td>28105</td>\n",
       "      <td>0</td>\n",
       "      <td>3.975091</td>\n",
       "      <td>{'was_impossible': False}</td>\n",
       "    </tr>\n",
       "    <tr>\n",
       "      <td>1</td>\n",
       "      <td>57436</td>\n",
       "      <td>965</td>\n",
       "      <td>0</td>\n",
       "      <td>3.014033</td>\n",
       "      <td>{'was_impossible': False}</td>\n",
       "    </tr>\n",
       "    <tr>\n",
       "      <td>2</td>\n",
       "      <td>18624</td>\n",
       "      <td>31199</td>\n",
       "      <td>0</td>\n",
       "      <td>4.973944</td>\n",
       "      <td>{'was_impossible': False}</td>\n",
       "    </tr>\n",
       "    <tr>\n",
       "      <td>3</td>\n",
       "      <td>32196</td>\n",
       "      <td>39244</td>\n",
       "      <td>0</td>\n",
       "      <td>4.629143</td>\n",
       "      <td>{'was_impossible': False}</td>\n",
       "    </tr>\n",
       "    <tr>\n",
       "      <td>4</td>\n",
       "      <td>32196</td>\n",
       "      <td>25050</td>\n",
       "      <td>0</td>\n",
       "      <td>5.000000</td>\n",
       "      <td>{'was_impossible': False}</td>\n",
       "    </tr>\n",
       "    <tr>\n",
       "      <td>...</td>\n",
       "      <td>...</td>\n",
       "      <td>...</td>\n",
       "      <td>...</td>\n",
       "      <td>...</td>\n",
       "      <td>...</td>\n",
       "    </tr>\n",
       "    <tr>\n",
       "      <td>291093</td>\n",
       "      <td>58423</td>\n",
       "      <td>50862</td>\n",
       "      <td>0</td>\n",
       "      <td>4.025839</td>\n",
       "      <td>{'was_impossible': False}</td>\n",
       "    </tr>\n",
       "    <tr>\n",
       "      <td>291094</td>\n",
       "      <td>22143</td>\n",
       "      <td>14071</td>\n",
       "      <td>0</td>\n",
       "      <td>4.985683</td>\n",
       "      <td>{'was_impossible': False}</td>\n",
       "    </tr>\n",
       "    <tr>\n",
       "      <td>291095</td>\n",
       "      <td>53179</td>\n",
       "      <td>1524</td>\n",
       "      <td>0</td>\n",
       "      <td>4.946294</td>\n",
       "      <td>{'was_impossible': False}</td>\n",
       "    </tr>\n",
       "    <tr>\n",
       "      <td>291096</td>\n",
       "      <td>53179</td>\n",
       "      <td>36290</td>\n",
       "      <td>0</td>\n",
       "      <td>4.027231</td>\n",
       "      <td>{'was_impossible': False}</td>\n",
       "    </tr>\n",
       "    <tr>\n",
       "      <td>291097</td>\n",
       "      <td>53179</td>\n",
       "      <td>34687</td>\n",
       "      <td>0</td>\n",
       "      <td>4.944033</td>\n",
       "      <td>{'was_impossible': False}</td>\n",
       "    </tr>\n",
       "  </tbody>\n",
       "</table>\n",
       "<p>291098 rows × 5 columns</p>\n",
       "</div>"
      ],
      "text/plain": [
       "          uid    iid  r_ui       est                    details\n",
       "0       57436  28105     0  3.975091  {'was_impossible': False}\n",
       "1       57436    965     0  3.014033  {'was_impossible': False}\n",
       "2       18624  31199     0  4.973944  {'was_impossible': False}\n",
       "3       32196  39244     0  4.629143  {'was_impossible': False}\n",
       "4       32196  25050     0  5.000000  {'was_impossible': False}\n",
       "...       ...    ...   ...       ...                        ...\n",
       "291093  58423  50862     0  4.025839  {'was_impossible': False}\n",
       "291094  22143  14071     0  4.985683  {'was_impossible': False}\n",
       "291095  53179   1524     0  4.946294  {'was_impossible': False}\n",
       "291096  53179  36290     0  4.027231  {'was_impossible': False}\n",
       "291097  53179  34687     0  4.944033  {'was_impossible': False}\n",
       "\n",
       "[291098 rows x 5 columns]"
      ]
     },
     "execution_count": 26,
     "metadata": {},
     "output_type": "execute_result"
    }
   ],
   "source": [
    "result_DF"
   ]
  },
  {
   "cell_type": "code",
   "execution_count": 27,
   "metadata": {},
   "outputs": [],
   "source": [
    "# Writing the output to a csv file\n",
    "f = open(\"kindleRecSys.csv\", \"w\")\n",
    "f.write(\"key\"+\",\"+\"overall\"+\"\\n\")\n",
    "for row in predictionEstimation:\n",
    "    key, overall = str(row.uid)+\"-\"+str(row.iid),row.est\n",
    "    f.write(str(key)+\",\"+str(overall)+\"\\n\")\n",
    "f.close()"
   ]
  },
  {
   "cell_type": "code",
   "execution_count": 28,
   "metadata": {},
   "outputs": [
    {
     "name": "stderr",
     "output_type": "stream",
     "text": [
      "[NbConvertApp] Converting notebook KindleRecSysRatingPred.ipynb to html\n",
      "[NbConvertApp] Writing 307713 bytes to KindleRecSysRatingPred.html\n"
     ]
    }
   ],
   "source": [
    "!jupyter nbconvert  KindleRecSysRatingPred.ipynb --to html"
   ]
  },
  {
   "cell_type": "code",
   "execution_count": null,
   "metadata": {},
   "outputs": [],
   "source": []
  }
 ],
 "metadata": {
  "kernelspec": {
   "display_name": "Python 3",
   "language": "python",
   "name": "python3"
  },
  "language_info": {
   "codemirror_mode": {
    "name": "ipython",
    "version": 3
   },
   "file_extension": ".py",
   "mimetype": "text/x-python",
   "name": "python",
   "nbconvert_exporter": "python",
   "pygments_lexer": "ipython3",
   "version": "3.7.3"
  }
 },
 "nbformat": 4,
 "nbformat_minor": 2
}
